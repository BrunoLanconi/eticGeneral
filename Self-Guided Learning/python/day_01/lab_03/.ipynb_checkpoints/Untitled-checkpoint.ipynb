{
    "cells": [
        {
            "cell_type": "code",
            "execution_count": 1,
            "id": "9e3e482b-b0d3-44c5-8e1c-b6ac2c7fc969",
            "metadata": {},
            "outputs": [],
            "source": [
                "a = \"hi\""
            ]
        },
        {
            "cell_type": "code",
            "execution_count": 3,
            "id": "fbaebabc-3ef5-41c3-a2e3-cc02fefe2ff3",
            "metadata": {},
            "outputs": [
                {
                    "name": "stdout",
                    "output_type": "stream",
                    "text": [
                        "hi\n"
                    ]
                }
            ],
            "source": [
                "print(a)"
            ]
        }
    ],
    "metadata": {
        "kernelspec": {
            "display_name": "Python 3 (ipykernel)",
            "language": "python",
            "name": "python3"
        },
        "language_info": {
            "codemirror_mode": {
                "name": "ipython",
                "version": 3
            },
            "file_extension": ".py",
            "mimetype": "text/x-python",
            "name": "python",
            "nbconvert_exporter": "python",
            "pygments_lexer": "ipython3",
            "version": "3.10.12"
        }
    },
    "nbformat": 4,
    "nbformat_minor": 5
}