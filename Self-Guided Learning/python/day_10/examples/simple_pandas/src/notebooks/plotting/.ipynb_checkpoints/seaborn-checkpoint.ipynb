{
    "cells": [
        {
            "cell_type": "code",
            "execution_count": 1,
            "metadata": {},
            "outputs": [
                {
                    "data": {
                        "text/html": [
                            "<div>\n",
                            "<style scoped>\n",
                            "    .dataframe tbody tr th:only-of-type {\n",
                            "        vertical-align: middle;\n",
                            "    }\n",
                            "\n",
                            "    .dataframe tbody tr th {\n",
                            "        vertical-align: top;\n",
                            "    }\n",
                            "\n",
                            "    .dataframe thead th {\n",
                            "        text-align: right;\n",
                            "    }\n",
                            "</style>\n",
                            "<table border=\"1\" class=\"dataframe\">\n",
                            "  <thead>\n",
                            "    <tr style=\"text-align: right;\">\n",
                            "      <th></th>\n",
                            "      <th>Mfr Name</th>\n",
                            "      <th>Carline</th>\n",
                            "      <th>Eng Displ</th>\n",
                            "      <th>Cylinders</th>\n",
                            "      <th>Transmission</th>\n",
                            "      <th>CityMPG</th>\n",
                            "      <th>HwyMPG</th>\n",
                            "      <th>CombMPG</th>\n",
                            "      <th># Gears</th>\n",
                            "    </tr>\n",
                            "  </thead>\n",
                            "  <tbody>\n",
                            "    <tr>\n",
                            "      <th>0</th>\n",
                            "      <td>aston martin</td>\n",
                            "      <td>Vantage V8</td>\n",
                            "      <td>4.0</td>\n",
                            "      <td>8</td>\n",
                            "      <td>Auto(S8)</td>\n",
                            "      <td>18</td>\n",
                            "      <td>25</td>\n",
                            "      <td>21</td>\n",
                            "      <td>8</td>\n",
                            "    </tr>\n",
                            "    <tr>\n",
                            "      <th>1</th>\n",
                            "      <td>Volkswagen Group of</td>\n",
                            "      <td>Chiron</td>\n",
                            "      <td>8.0</td>\n",
                            "      <td>16</td>\n",
                            "      <td>Auto(AM-S7)</td>\n",
                            "      <td>9</td>\n",
                            "      <td>14</td>\n",
                            "      <td>11</td>\n",
                            "      <td>7</td>\n",
                            "    </tr>\n",
                            "    <tr>\n",
                            "      <th>2</th>\n",
                            "      <td>General Motors</td>\n",
                            "      <td>CORVETTE</td>\n",
                            "      <td>6.2</td>\n",
                            "      <td>8</td>\n",
                            "      <td>Auto(S8)</td>\n",
                            "      <td>12</td>\n",
                            "      <td>20</td>\n",
                            "      <td>15</td>\n",
                            "      <td>8</td>\n",
                            "    </tr>\n",
                            "    <tr>\n",
                            "      <th>3</th>\n",
                            "      <td>General Motors</td>\n",
                            "      <td>CORVETTE</td>\n",
                            "      <td>6.2</td>\n",
                            "      <td>8</td>\n",
                            "      <td>Auto(S8)</td>\n",
                            "      <td>15</td>\n",
                            "      <td>25</td>\n",
                            "      <td>18</td>\n",
                            "      <td>8</td>\n",
                            "    </tr>\n",
                            "    <tr>\n",
                            "      <th>4</th>\n",
                            "      <td>General Motors</td>\n",
                            "      <td>CORVETTE</td>\n",
                            "      <td>6.2</td>\n",
                            "      <td>8</td>\n",
                            "      <td>Auto(S8)</td>\n",
                            "      <td>14</td>\n",
                            "      <td>23</td>\n",
                            "      <td>17</td>\n",
                            "      <td>8</td>\n",
                            "    </tr>\n",
                            "  </tbody>\n",
                            "</table>\n",
                            "</div>"
                        ],
                        "text/plain": [
                            "              Mfr Name     Carline  Eng Displ  Cylinders Transmission  \\\n",
                            "0         aston martin  Vantage V8        4.0          8     Auto(S8)   \n",
                            "1  Volkswagen Group of      Chiron        8.0         16  Auto(AM-S7)   \n",
                            "2       General Motors    CORVETTE        6.2          8     Auto(S8)   \n",
                            "3       General Motors    CORVETTE        6.2          8     Auto(S8)   \n",
                            "4       General Motors    CORVETTE        6.2          8     Auto(S8)   \n",
                            "\n",
                            "   CityMPG  HwyMPG  CombMPG  # Gears  \n",
                            "0       18      25       21        8  \n",
                            "1        9      14       11        7  \n",
                            "2       12      20       15        8  \n",
                            "3       15      25       18        8  \n",
                            "4       14      23       17        8  "
                        ]
                    },
                    "execution_count": 1,
                    "metadata": {},
                    "output_type": "execute_result"
                }
            ],
            "source": [
                "import pandas as pd\n",
                "\n",
                "df = pd.read_csv(\"http://media.sundog-soft.com/SelfDriving/FuelEfficiency.csv\")\n",
                "\n",
                "df.head()"
            ]
        },
        {
            "cell_type": "code",
            "execution_count": 8,
            "metadata": {},
            "outputs": [
                {
                    "data": {
                        "text/plain": [
                            "<Axes: xlabel='# Gears'>"
                        ]
                    },
                    "execution_count": 8,
                    "metadata": {},
                    "output_type": "execute_result"
                }
            ],
            "source": [
                "# Seaborn is a Python data visualization library based on matplotlib used to create more attractive and informative statistical graphics.\n",
                "import seaborn as sns\n",
                "\n",
                "# Resetting to demonstrate the default style\n",
                "import matplotlib as mpl\n",
                "mpl.rcParams.update(mpl.rcParamsDefault)\n",
                "\n",
                "gear_counts = df['# Gears'].value_counts()\n",
                "\n",
                "gear_counts.plot(kind='bar')"
            ]
        },
        {
            "cell_type": "code",
            "execution_count": 9,
            "metadata": {},
            "outputs": [
                {
                    "data": {
                        "text/plain": [
                            "<Axes: xlabel='# Gears'>"
                        ]
                    },
                    "execution_count": 9,
                    "metadata": {},
                    "output_type": "execute_result"
                }
            ],
            "source": [
                "# Set the aesthetic style of the plots\n",
                "sns.set_theme(style=\"whitegrid\")\n",
                "\n",
                "# Now the plot will look more attractive\n",
                "gear_counts.plot(kind='bar')"
            ]
        },
        {
            "cell_type": "code",
            "execution_count": null,
            "metadata": {},
            "outputs": [
                {
                    "ename": "",
                    "evalue": "",
                    "output_type": "error",
                    "traceback": [
                        "\u001b[1;31mRunning cells with 'app-g3enG9Nq-py3.10 (Python 3.10.12)' requires the ipykernel package.\n",
                        "\u001b[1;31mRun the following command to install 'ipykernel' into the Python environment. \n",
                        "\u001b[1;31mCommand: '/home/bruno/.cache/pypoetry/virtualenvs/app-g3enG9Nq-py3.10/bin/python -m pip install ipykernel -U --force-reinstall'"
                    ]
                }
            ],
            "source": [
                "sns.histplot(df['Salary'])"
            ]
        },
        {
            "cell_type": "code",
            "execution_count": null,
            "metadata": {},
            "outputs": [],
            "source": [
                "sns.displot(df['Salary'])\n",
                "sns.set_theme(style='darkgrid')\n",
                "sns.displot(df['Salary'])\n",
                "sns.pairplot(df)\n",
                "sns.jointplot(x='Salary', y='Age', data=df)\n",
                "sns.jointplot(x='Salary', y='Age', data=df, kind='hex')\n",
                "sns.jointplot(x='Salary', y='Age', data=df, kind='hex', marginal_kws=dict(color='red'))\n",
                "sns.jointplot(x='Salary', y='Age', data=df, kind='hex', marginal_kws=dict(color='red'), annot_kws=dict(color='white'))"
            ]
        }
    ],
    "metadata": {
        "kernelspec": {
            "display_name": "ds-ml-uprEUP-8-py3.10",
            "language": "python",
            "name": "python3"
        },
        "language_info": {
            "codemirror_mode": {
                "name": "ipython",
                "version": 3
            },
            "file_extension": ".py",
            "mimetype": "text/x-python",
            "name": "python",
            "nbconvert_exporter": "python",
            "pygments_lexer": "ipython3",
            "version": "3.10.12"
        }
    },
    "nbformat": 4,
    "nbformat_minor": 2
}