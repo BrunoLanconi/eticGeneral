{
    "cells": [
        {
            "cell_type": "code",
            "execution_count": null,
            "id": "65be922b-a48b-4e0a-8bcd-6b57d9501cc4",
            "metadata": {},
            "outputs": [],
            "source": [
                "sample = [1, 3, 5, 7, 11]\n",
                "\n",
                "sum = lambda("
            ]
        }
    ],
    "metadata": {
        "kernelspec": {
            "display_name": "Python 3 (ipykernel)",
            "language": "python",
            "name": "python3"
        },
        "language_info": {
            "codemirror_mode": {
                "name": "ipython",
                "version": 3
            },
            "file_extension": ".py",
            "mimetype": "text/x-python",
            "name": "python",
            "nbconvert_exporter": "python",
            "pygments_lexer": "ipython3",
            "version": "3.10.12"
        }
    },
    "nbformat": 4,
    "nbformat_minor": 5
}