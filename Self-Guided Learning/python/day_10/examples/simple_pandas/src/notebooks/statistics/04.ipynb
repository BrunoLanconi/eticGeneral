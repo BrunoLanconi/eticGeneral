{
    "cells": [
        {
            "cell_type": "code",
            "execution_count": 14,
            "id": "9049693d",
            "metadata": {},
            "outputs": [
                {
                    "data": {
                        "image/png": "[encoded data removed]",
                        "text/plain": [
                            "<Figure size 640x480 with 1 Axes>"
                        ]
                    },
                    "metadata": {},
                    "output_type": "display_data"
                }
            ],
            "source": [
                "import numpy as np\n",
                "import matplotlib.pyplot as plt\n",
                "\n",
                "vals = np.random.normal(0, 0.5, 10)\n",
                "\n",
                "plt.hist(vals, 50)\n",
                "plt.show()"
            ]
        },
        {
            "cell_type": "code",
            "execution_count": 15,
            "id": "98b69b1c",
            "metadata": {},
            "outputs": [
                {
                    "data": {
                        "text/plain": [
                            "np.float64(0.03682804070364922)"
                        ]
                    },
                    "execution_count": 15,
                    "metadata": {},
                    "output_type": "execute_result"
                }
            ],
            "source": [
                "# The percentile function returns the value below which a given percentage of observations in a group of observations falls\n",
                "np.percentile(vals, 50) # 50th percentile"
            ]
        },
        {
            "cell_type": "code",
            "execution_count": 16,
            "id": "1413c214",
            "metadata": {},
            "outputs": [
                {
                    "data": {
                        "text/plain": [
                            "np.float64(0.43323437885287336)"
                        ]
                    },
                    "execution_count": 16,
                    "metadata": {},
                    "output_type": "execute_result"
                }
            ],
            "source": [
                "np.percentile(vals, 90) # 90th percentile"
            ]
        },
        {
            "cell_type": "code",
            "execution_count": 17,
            "id": "485cfa37",
            "metadata": {},
            "outputs": [
                {
                    "data": {
                        "text/plain": [
                            "np.float64(-0.3612493305146217)"
                        ]
                    },
                    "execution_count": 17,
                    "metadata": {},
                    "output_type": "execute_result"
                }
            ],
            "source": [
                "np.percentile(vals, 20) # 20th percentile"
            ]
        },
        {
            "cell_type": "code",
            "execution_count": 18,
            "id": "d0f6cb4e",
            "metadata": {},
            "outputs": [
                {
                    "data": {
                        "text/plain": [
                            "np.float64(0.4348582051462924)"
                        ]
                    },
                    "execution_count": 18,
                    "metadata": {},
                    "output_type": "execute_result"
                }
            ],
            "source": [
                "np.percentile(vals, 99) # 99th percentile"
            ]
        },
        {
            "cell_type": "code",
            "execution_count": 19,
            "id": "a84cc077",
            "metadata": {},
            "outputs": [
                {
                    "data": {
                        "text/plain": [
                            "np.float64(0.43503863029000567)"
                        ]
                    },
                    "execution_count": 19,
                    "metadata": {},
                    "output_type": "execute_result"
                }
            ],
            "source": [
                "np.percentile(vals, 100) # 100th percentile"
            ]
        }
    ],
    "metadata": {
        "kernelspec": {
            "display_name": "Python 3 (ipykernel)",
            "language": "python",
            "name": "python3"
        },
        "language_info": {
            "codemirror_mode": {
                "name": "ipython",
                "version": 3
            },
            "file_extension": ".py",
            "mimetype": "text/x-python",
            "name": "python",
            "nbconvert_exporter": "python",
            "pygments_lexer": "ipython3",
            "version": "3.10.12"
        }
    },
    "nbformat": 4,
    "nbformat_minor": 5
}