{
    "cells": [
        {
            "cell_type": "code",
            "execution_count": 2,
            "id": "ac4b837a",
            "metadata": {},
            "outputs": [
                {
                    "data": {
                        "text/plain": [
                            "np.float64(27029.568040828675)"
                        ]
                    },
                    "execution_count": 2,
                    "metadata": {},
                    "output_type": "execute_result"
                }
            ],
            "source": [
                "import numpy as np\n",
                "\n",
                "incomes = np.random.normal(27000, 15000, 10000)\n",
                "np.mean(incomes)"
            ]
        },
        {
            "cell_type": "code",
            "execution_count": 3,
            "id": "f674435a",
            "metadata": {},
            "outputs": [
                {
                    "data": {
                        "image/png": "[encoded data removed]",
                        "text/plain": [
                            "<Figure size 640x480 with 1 Axes>"
                        ]
                    },
                    "metadata": {},
                    "output_type": "display_data"
                }
            ],
            "source": [
                "%matplotlib inline\n",
                "import matplotlib.pyplot as plt\n",
                "\n",
                "# We can then plot the data using a histogram to see the bell curve of the normal distribution\n",
                "# hist() is a function that creates a histogram. The first argument is the data, the second argument is the number of bins, and the third argument is the density of the plot.\n",
                "plt.hist(incomes, 50)\n",
                "plt.show()"
            ]
        },
        {
            "cell_type": "code",
            "execution_count": 4,
            "id": "23375846",
            "metadata": {},
            "outputs": [
                {
                    "data": {
                        "text/plain": [
                            "np.float64(27271.92735956714)"
                        ]
                    },
                    "execution_count": 4,
                    "metadata": {},
                    "output_type": "execute_result"
                }
            ],
            "source": [
                "np.median(incomes)"
            ]
        },
        {
            "cell_type": "code",
            "execution_count": 5,
            "id": "997b759f",
            "metadata": {},
            "outputs": [
                {
                    "data": {
                        "text/plain": [
                            "np.float64(27272.009251557105)"
                        ]
                    },
                    "execution_count": 5,
                    "metadata": {},
                    "output_type": "execute_result"
                }
            ],
            "source": [
                "income = np.append(incomes, [1000000000])\n",
                "\n",
                "np.median(income)"
            ]
        },
        {
            "cell_type": "code",
            "execution_count": 6,
            "id": "7e5eb9a3",
            "metadata": {},
            "outputs": [
                {
                    "data": {
                        "text/plain": [
                            "np.float64(127016.86635419326)"
                        ]
                    },
                    "execution_count": 6,
                    "metadata": {},
                    "output_type": "execute_result"
                }
            ],
            "source": [
                "np.mean(income)"
            ]
        },
        {
            "cell_type": "code",
            "execution_count": 7,
            "id": "61c5cfdd",
            "metadata": {},
            "outputs": [
                {
                    "data": {
                        "text/plain": [
                            "array([43, 58, 25, 46, 67, 41, 24, 21, 74, 68, 77, 61, 38, 44, 79, 87, 63,\n",
                            "       77, 68, 51, 73, 46, 73, 37, 65, 21, 57, 28, 79, 31, 20, 66, 57, 46,\n",
                            "       25, 74, 84, 26, 19, 35, 79, 55, 35, 44, 84, 41, 30, 59, 46, 69, 30,\n",
                            "       36, 67, 82, 73, 28, 49, 58, 72, 23, 52, 82, 31, 25, 40, 44, 74, 42,\n",
                            "       55, 52, 66, 86, 56, 49, 35, 22, 77, 50, 28, 79, 87, 38, 77, 58, 20,\n",
                            "       44, 77, 70, 30, 44, 84, 62, 38, 50, 87, 45, 49, 58, 54, 74, 36, 53,\n",
                            "       78, 31, 60, 45, 40, 49, 69, 23, 84, 57, 37, 55, 53, 34, 21, 81, 26,\n",
                            "       40, 58, 87, 43, 80, 68, 71, 37, 61, 34, 66, 69, 21, 71, 53, 37, 83,\n",
                            "       21, 79, 47, 29, 83, 25, 53, 54, 32, 79, 82, 28, 22, 74, 45, 30, 63,\n",
                            "       72, 32, 64, 37, 39, 87, 53, 37, 73, 82, 19, 81, 39, 37, 31, 21, 52,\n",
                            "       64, 88, 58, 22, 50, 26, 73, 45, 19, 68, 54, 48, 40, 89, 30, 18, 30,\n",
                            "       48, 49, 69, 40, 85, 47, 84, 25, 70, 38, 27, 41, 37, 38, 69, 42, 34,\n",
                            "       56, 36, 87, 33, 50, 40, 34, 33, 80, 48, 44, 73, 58, 48, 60, 77, 87,\n",
                            "       50, 75, 74, 69, 71, 40, 83, 70, 82, 49, 34, 37, 35, 32, 25, 60, 66,\n",
                            "       23, 60, 80, 74, 32, 62, 21, 64, 67, 40, 71, 65, 89, 18, 54, 59, 70,\n",
                            "       28, 31, 21, 87, 69, 56, 71, 43, 70, 37, 62, 89, 71, 29, 35, 82, 56,\n",
                            "       24, 58, 42, 58, 45, 36, 51, 71, 68, 25, 37, 44, 53, 23, 59, 27, 19,\n",
                            "       76, 74, 56, 58, 89, 46, 83, 25, 45, 71, 82, 87, 46, 36, 46, 71, 66,\n",
                            "       71, 23, 25, 88, 81, 77, 45, 52, 19, 30, 80, 38, 57, 23, 28, 38, 26,\n",
                            "       43, 70, 83, 21, 35, 46, 27, 49, 30, 37, 87, 29, 40, 87, 69, 29, 37,\n",
                            "       82, 71, 65, 57, 63, 44, 82, 38, 26, 31, 43, 26, 73, 67, 54, 61, 78,\n",
                            "       41, 53, 53, 69, 72, 50, 23, 73, 63, 41, 42, 74, 50, 52, 81, 83, 21,\n",
                            "       55, 79, 39, 59, 69, 52, 75, 73, 54, 89, 60, 23, 45, 81, 60, 22, 54,\n",
                            "       21, 31, 79, 19, 48, 89, 23, 20, 72, 47, 56, 37, 48, 30, 58, 51, 40,\n",
                            "       86, 46, 76, 65, 33, 59, 22, 29, 21, 75, 41, 71, 20, 87, 79, 25, 21,\n",
                            "       37, 84, 22, 39, 63, 21, 36, 84, 80, 53, 34, 83, 62, 81, 52, 65, 82,\n",
                            "       61, 65, 43, 24, 35, 74, 28, 51, 24, 49, 51, 36, 47, 30, 84, 53, 89,\n",
                            "       46, 54, 70, 42, 26, 80, 26, 84, 26, 65, 29, 58, 45, 49, 28, 78, 47,\n",
                            "       45, 74, 83, 89, 44, 61, 29, 54, 43, 87, 83, 35, 29, 40, 52, 24, 41,\n",
                            "       88, 26, 55, 65, 46, 28, 89])"
                        ]
                    },
                    "execution_count": 7,
                    "metadata": {},
                    "output_type": "execute_result"
                }
            ],
            "source": [
                "ages = np.random.randint(18, high=90, size=500)\n",
                "\n",
                "ages"
            ]
        },
        {
            "cell_type": "code",
            "execution_count": 8,
            "id": "0fc0a810",
            "metadata": {},
            "outputs": [
                {
                    "data": {
                        "text/plain": [
                            "ModeResult(mode=np.int64(37), count=np.int64(15))"
                        ]
                    },
                    "execution_count": 8,
                    "metadata": {},
                    "output_type": "execute_result"
                }
            ],
            "source": [
                "from scipy import stats\n",
                "\n",
                "stats.mode(ages)"
            ]
        }
    ],
    "metadata": {
        "kernelspec": {
            "display_name": "Python 3 (ipykernel)",
            "language": "python",
            "name": "python3"
        },
        "language_info": {
            "codemirror_mode": {
                "name": "ipython",
                "version": 3
            },
            "file_extension": ".py",
            "mimetype": "text/x-python",
            "name": "python",
            "nbconvert_exporter": "python",
            "pygments_lexer": "ipython3",
            "version": "3.10.12"
        }
    },
    "nbformat": 4,
    "nbformat_minor": 5
}